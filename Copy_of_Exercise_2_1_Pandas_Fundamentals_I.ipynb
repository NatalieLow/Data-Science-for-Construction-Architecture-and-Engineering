{
  "nbformat": 4,
  "nbformat_minor": 0,
  "metadata": {
    "colab": {
      "provenance": [],
      "include_colab_link": true
    },
    "kernelspec": {
      "name": "python3",
      "display_name": "Python 3"
    }
  },
  "cells": [
    {
      "cell_type": "markdown",
      "metadata": {
        "id": "view-in-github",
        "colab_type": "text"
      },
      "source": [
        "<a href=\"https://colab.research.google.com/github/NatalieLow/Data-Science-for-Construction-Architecture-and-Engineering/blob/main/Copy_of_Exercise_2_1_Pandas_Fundamentals_I.ipynb\" target=\"_parent\"><img src=\"https://colab.research.google.com/assets/colab-badge.svg\" alt=\"Open In Colab\"/></a>"
      ]
    },
    {
      "cell_type": "markdown",
      "metadata": {
        "id": "mQlkWmvx7J9r"
      },
      "source": [
        "# Data Science for Construction, Architecture and Engineering\n",
        "\n",
        "### Week 2 - Building Design Phase - Intro to Pandas\n",
        "\n",
        "### Exercise Set 2.1 - Pandas Fundamentals I\n",
        "\n",
        "This set of exercises is the first of two sets for Week 2. These exercises are designed to give you some hands on experience in trying out the concepts from the first set of videos for this week.\n",
        "\n",
        "There is an introduction video available to explain the process of using this exercise video.\n",
        "\n",
        "The lead developer of this exercise is Matias Quintana, a Ph.D. student at NUS and a teaching assistant of this course. "
      ]
    },
    {
      "cell_type": "markdown",
      "metadata": {
        "id": "8uiuM18n7z_l"
      },
      "source": [
        "# Exercise 02.1\n",
        "\n",
        "There are three exercises in this set, each one focused simple uses of the [Pandas library](https://pandas.pydata.org/).\n",
        "\n",
        "### Please note that you will need to use the resultant output from Exercise 02.1.3 for the Quiz 2.1."
      ]
    },
    {
      "cell_type": "markdown",
      "metadata": {
        "id": "MeE39azs4oct"
      },
      "source": [
        "## Exercise 02.1.1 - Load the baseline file\n",
        "\n",
        "Electrical powermeter datasets usually contain only one column with the electrical consmption in `KWh`. The [Building Data Genome](https://github.com/buds-lab/the-building-data-genome-project) is an example of such template. However, as you just saw in the lectures, you can also generate these datasets yourself after running simulations. \n",
        "\n",
        "In this exercise, we would do a bit more manipulation when loading files. In some ocasions, we might want to assign the names of the columns ourselves or we want to have a different index for the rows. Luckily, the function `read_csv` has the appropriate parameters to do this.\n",
        "\n",
        "Write some lines of code to load the `Baseline` file **without column indices and without header or column names**. Look at the [documentation](https://pandas.pydata.org/pandas-docs/stable/reference/api/pandas.read_csv.html) for `read_csv` and use the appropriate parameters to **not load the first column as index** (e.g., parameter `index_col`) and to **not use the first row as header** (e.g., parameter `header`).\n",
        "\n",
        "Be mindful that the `csv` file _does_ have a row (the very first one) that seems to be a header, but let's practice some coding and **not** use it! This means we would need to `skip` the first row when we are loading the file.\n",
        "\n",
        "As a file step, rename the columns. You can pick any name you want, but as a best practice, a name that best represents the data is always useful (e.g., if the data are `KWh` measurements possible names include Power or Consumption)\n",
        "\n",
        "The needed functions and libraries are already imported below:\n"
      ]
    },
    {
      "cell_type": "code",
      "metadata": {
        "id": "Z81IM6-FAJIa"
      },
      "source": [
        "import pandas as pd\n",
        "import os\n",
        "from google.colab import drive"
      ],
      "execution_count": null,
      "outputs": []
    },
    {
      "cell_type": "markdown",
      "metadata": {
        "id": "vs3IjepjATsn"
      },
      "source": [
        "**Hint**: Remember whenever you want to load files from your Google Drive, you need to `mount` the drive first. The documentation for the Pandas library can be found [here](https://pandas.pydata.org/pandas-docs/stable/reference/api/pandas.read_csv.html) and looking through [Stackoverflow](https://stackoverflow.com/questions/11346283/renaming-columns-in-pandas) is always helpful too "
      ]
    },
    {
      "cell_type": "code",
      "metadata": {
        "id": "C6bGD7LT43dc",
        "colab": {
          "base_uri": "https://localhost:8080/"
        },
        "outputId": "20a81395-7876-4701-e4b5-0fec06d51325"
      },
      "source": [
        "# Mount, change directory, and load the file. Remember to go through `read_csv` documentation to properly use the parameters\n",
        "# YOUR CODE HERE\n",
        "drive.mount('/content/gdrive')\n",
        "os.chdir(\"/content/gdrive/My Drive/Colab Notebooks/Section 2/simulation_data\") "
      ],
      "execution_count": null,
      "outputs": [
        {
          "output_type": "stream",
          "name": "stdout",
          "text": [
            "Mounted at /content/gdrive\n"
          ]
        }
      ]
    },
    {
      "cell_type": "code",
      "source": [
        "ls"
      ],
      "metadata": {
        "colab": {
          "base_uri": "https://localhost:8080/"
        },
        "id": "lilD3bnVkDCc",
        "outputId": "2df316a3-f4be-4f5c-f0ee-2449c46fc3d5"
      },
      "execution_count": null,
      "outputs": [
        {
          "output_type": "stream",
          "name": "stdout",
          "text": [
            "'Copy of Baseline.csv'\n",
            "'Copy of Baseline.gsheet'\n",
            "'Copy of Scenario - Aircon Schedules.csv'\n",
            "'Copy of Scenario - Cool roof.csv'\n",
            "'Copy of Scenario - Increase Setpoint.csv'\n",
            "'Copy of Scenario - Low-E Glass.csv'\n",
            "'Copy of Scenario - Rooftop Gardens.csv'\n"
          ]
        }
      ]
    },
    {
      "cell_type": "markdown",
      "metadata": {
        "id": "8Q-zAbOIUE-1"
      },
      "source": [
        "## Exercise 02.1.2 - Filter dataframe rows based on a threshold"
      ]
    },
    {
      "cell_type": "markdown",
      "metadata": {
        "id": "6LiLCmpwUgLC"
      },
      "source": [
        "The building facilities manager is concerned about the high consumption during certain months of the year and wants you to investigate on the months that didn't consume higher than a certain `consumption_threshold`. \n",
        "\n",
        "Write some lines of code that allows you to filter out the rows where the consumption did not exceed the given `consumption_threshold`. Set `consumption_threshold` equal to 15 initially\n"
      ]
    },
    {
      "cell_type": "code",
      "metadata": {
        "id": "lDL73czAUFbF",
        "colab": {
          "base_uri": "https://localhost:8080/"
        },
        "outputId": "7562fb8e-2b3e-4841-9c54-a03324559030"
      },
      "source": [
        "# filter the baseline consumption with the `consumption_threshold` variable\n",
        "consumption_threshold = 15\n",
        "# YOUR CODE HERE\n",
        "baseline_data = pd.read_csv(\"Copy of Baseline.csv\")\n",
        "\n",
        "low_consumption_months = baseline_data[baseline_data['Baseline']<consumption_threshold]\n",
        "\n",
        "print(low_consumption_months)\n",
        "\n"
      ],
      "execution_count": null,
      "outputs": [
        {
          "output_type": "stream",
          "name": "stdout",
          "text": [
            "       Month  Baseline\n",
            "0    January      5.69\n",
            "1   February      6.75\n",
            "2      March     10.64\n",
            "3      April     13.60\n",
            "10  November     13.02\n",
            "11  December      7.53\n"
          ]
        }
      ]
    },
    {
      "cell_type": "markdown",
      "metadata": {
        "id": "HSotamy_4wid"
      },
      "source": [
        "## Exercise 02.1.3 - Savings ratio calculation\n",
        "One energy analysis application is the analysis of *peak consumption ratios*. Suppose we want to know the ratio between the consumption of the month of March versus the peak consumption of the whole year.\n",
        "\n",
        "In this exercise, let's do this by to finding the *percentage* of March's consumption as compared to the peak consumption value.\n",
        "\n",
        "Calculate your answer as a percentage (0-100) as the variable `percentage`\n",
        "\n",
        "Hint: One way to find the maximum value of a column in a dataframe is to use the function `.max()`, more information about the function can be found [here](https://pandas.pydata.org/pandas-docs/stable/reference/api/pandas.DataFrame.max.html). "
      ]
    },
    {
      "cell_type": "code",
      "metadata": {
        "id": "ZiafyX5ufOwR",
        "colab": {
          "base_uri": "https://localhost:8080/"
        },
        "outputId": "33ad946f-642d-4e27-f05a-a09a81acfd12"
      },
      "source": [
        "# Compute the savings for the month of `March`\n",
        "# YOUR CODE HERE\n",
        "percentage = baseline_data[baseline_data['Month'] =='March']['Baseline'] / max(baseline_data['Baseline']) * 100\n",
        "print(percentage)"
      ],
      "execution_count": null,
      "outputs": [
        {
          "output_type": "stream",
          "name": "stdout",
          "text": [
            "2    39.218577\n",
            "Name: Baseline, dtype: float64\n"
          ]
        }
      ]
    },
    {
      "cell_type": "markdown",
      "metadata": {
        "id": "vMxIsjsKL-QD"
      },
      "source": [
        "### Please write down the number that you calculated for the variable `percentage` rounded up to 2 decimal places and input in Quiz 2.1"
      ]
    },
    {
      "cell_type": "code",
      "metadata": {
        "id": "baAssW3aL-fY"
      },
      "source": [
        "39.22"
      ],
      "execution_count": null,
      "outputs": []
    }
  ]
}