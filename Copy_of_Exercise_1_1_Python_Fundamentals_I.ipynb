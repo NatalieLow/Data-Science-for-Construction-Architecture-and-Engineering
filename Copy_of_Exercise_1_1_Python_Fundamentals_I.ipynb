{
  "nbformat": 4,
  "nbformat_minor": 0,
  "metadata": {
    "colab": {
      "provenance": [],
      "include_colab_link": true
    },
    "kernelspec": {
      "name": "python3",
      "display_name": "Python 3"
    }
  },
  "cells": [
    {
      "cell_type": "markdown",
      "metadata": {
        "id": "view-in-github",
        "colab_type": "text"
      },
      "source": [
        "<a href=\"https://colab.research.google.com/github/NatalieLow/Data-Science-for-Construction-Architecture-and-Engineering/blob/main/Copy_of_Exercise_1_1_Python_Fundamentals_I.ipynb\" target=\"_parent\"><img src=\"https://colab.research.google.com/assets/colab-badge.svg\" alt=\"Open In Colab\"/></a>"
      ]
    },
    {
      "cell_type": "markdown",
      "metadata": {
        "id": "6ja6S3Po4C9I"
      },
      "source": [
        "# Data Science for Construction, Architecture and Engineering\n",
        "\n",
        "### Week 1 -  Introduction and Python Fundamentals\n",
        "\n",
        "### Exercise Set 1.1 - Python Fundamentals - Variables and Operators\n",
        "\n",
        "This set of exercises is the first of two sets for Week 1. These exercises are designed to give you some hands on experience in trying out the concepts from the first set of videos for this week.\n",
        "\n",
        "There is an introduction video available to explain the process of using this exercise video.\n",
        "\n",
        "These exercises were adapted from the Introduction to Python resources from [Garth Wells](https://notebooks.azure.com/garth-wells/projects/CUED-IA-Computing-Michaelmas)."
      ]
    },
    {
      "cell_type": "markdown",
      "metadata": {
        "id": "4rVMs5nJMWRF"
      },
      "source": [
        "# Exercise Set 01.1\n",
        "\n",
        "There are two exercises in this set, each one focused on a generic exercise in the use of Python variables and operators.\n",
        "\n",
        "### Please note that you will need to use the resultant output from Exercise 01.1.2 for the Quiz 1.1."
      ]
    },
    {
      "cell_type": "markdown",
      "metadata": {
        "id": "MeE39azs4oct"
      },
      "source": [
        "## Exercise 01.1.1 - Simple Python Operations\n",
        "\n",
        "Degrees Fahrenheit ($T_F$) are converted to degrees Celsius ($T_c$) using the formula:\n",
        "\n",
        "$$\n",
        "T_c = 5(T_f - 32)/9\n",
        "$$\n",
        "\n",
        "Write a program to convert 78 degrees Fahrenheit to degrees Celsius and print the result.\n",
        "Write your program such that you can easily change the temperature in Fahrenheit that you are converting from.\n",
        "\n",
        "Use the variable name `T_c` for the temperature in degrees Celsius."
      ]
    },
    {
      "cell_type": "code",
      "metadata": {
        "id": "C6bGD7LT43dc",
        "colab": {
          "base_uri": "https://localhost:8080/"
        },
        "outputId": "ae57b5d9-24c0-4115-f5f8-2a5d087d864f"
      },
      "source": [
        "T_f = 78\n",
        "# YOUR CODE HERE\n",
        "T_c = 5 / 9 * (T_f - 32)\n",
        "print(T_c)"
      ],
      "execution_count": null,
      "outputs": [
        {
          "output_type": "stream",
          "name": "stdout",
          "text": [
            "25.555555555555557\n"
          ]
        }
      ]
    },
    {
      "cell_type": "markdown",
      "metadata": {
        "id": "8Q-zAbOIUE-1"
      },
      "source": [
        "## Exercise 01.1.2 - Python Slightly More Complex Operations\n",
        "\n",
        "You have been tasked with developing a mortgage affordability test tool. A component is to compute the monthly interest payments for a range of scenarios.\n",
        "\n",
        "Interest on a particular mortgage is charged at fixed rate above the Bank of England (BoE) 'official Bank Rate'. Interest is computed per annum, and interest payments spread equally over each month of the year.\n",
        "Write a program that computes the interest payable each month, with variables for:\n",
        "\n",
        "1. Loan principal (amount borrowed)\n",
        "1. Official Bank Rate (percentage, expressed per annum)\n",
        "1. Rate over the official Bank Rate (percentage, expressed per annum)\n",
        "\n",
        "Test your program with a loan principal of £150,000, BoE rate of 0.5%, and rate over the \n",
        "BoE rate of 1.49%. Use the variable name `interest` for the monthly interest amount."
      ]
    },
    {
      "cell_type": "code",
      "metadata": {
        "id": "i3D1ElSYXKMf",
        "colab": {
          "base_uri": "https://localhost:8080/"
        },
        "outputId": "10067003-d074-48a9-a9e3-09019129a7d5"
      },
      "source": [
        "# Assign data to variables\n",
        "# Loan Principal\n",
        "principal = 150000\n",
        "# Official Bank Rate\n",
        "BoE = 0.005 \n",
        "# Rate over the official bank rate\n",
        "RoBoE = 0.0149\n",
        " \n",
        "\n",
        "# YOUR CODE HERE\n",
        "def interest(loan_principal, bank_rate) :\n",
        "  monthly_payment = loan_principal * bank_rate / 12\n",
        "  return f'Monthly interest, when bank rate = {bank_rate * 100} % is equal to: {monthly_payment}'\n",
        "  \n",
        "\n",
        "print(interest(principal, BoE + RoBoE))\n"
      ],
      "execution_count": null,
      "outputs": [
        {
          "output_type": "stream",
          "name": "stdout",
          "text": [
            "Monthly interest, when bank rate = 1.9900000000000002 % is equal to: 248.75\n"
          ]
        }
      ]
    },
    {
      "cell_type": "markdown",
      "metadata": {
        "id": "dM8DLp5J6GuM"
      },
      "source": [
        "### Please write down the number that you calculated for the variable `interest` and input in Quiz 1.1"
      ]
    },
    {
      "cell_type": "markdown",
      "metadata": {
        "id": "mydd0-8fFeIV"
      },
      "source": [
        "## Exercise 01.1.3 - Python Order or Operations and Comparators\n",
        "\n",
        "Compare the computed values of \n",
        "\n",
        "$$ \n",
        "d_0 = a \\cdot b + a  \\cdot  c\n",
        "$$\n",
        "\n",
        "and \n",
        "\n",
        "$$ \n",
        "d_1 = a \\cdot (b + c)\n",
        "$$\n",
        "\n",
        "when $a = 100$, $b = 0.1$ and $c = 0.2$. Store $d_{0}$ in the variable `d0` and $d_{1}$ in the variable `d1`.\n",
        "\n",
        "\n",
        "Try checking for equality, e.g. `print(d0 == d1)`. "
      ]
    },
    {
      "cell_type": "code",
      "metadata": {
        "id": "CBWKWO3eFjNL"
      },
      "source": [
        "# YOUR CODE HERE\n",
        "a = 100\n",
        "b = 0.1\n",
        "c = 0.2\n",
        "\n",
        "d0 = a * b + a * c\n",
        "d1 = a * (b + c)"
      ],
      "execution_count": null,
      "outputs": []
    },
    {
      "cell_type": "code",
      "metadata": {
        "id": "pikK_jLGFtfk",
        "colab": {
          "base_uri": "https://localhost:8080/"
        },
        "outputId": "3582fd5d-6c3d-4e8f-a7be-9c1fbfe4f846"
      },
      "source": [
        "print(d0 == d1)"
      ],
      "execution_count": null,
      "outputs": [
        {
          "output_type": "stream",
          "name": "stdout",
          "text": [
            "False\n"
          ]
        }
      ]
    }
  ]
}