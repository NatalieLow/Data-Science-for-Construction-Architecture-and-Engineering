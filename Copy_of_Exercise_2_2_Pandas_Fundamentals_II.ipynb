{
  "nbformat": 4,
  "nbformat_minor": 0,
  "metadata": {
    "colab": {
      "provenance": [],
      "include_colab_link": true
    },
    "kernelspec": {
      "name": "python3",
      "display_name": "Python 3"
    }
  },
  "cells": [
    {
      "cell_type": "markdown",
      "metadata": {
        "id": "view-in-github",
        "colab_type": "text"
      },
      "source": [
        "<a href=\"https://colab.research.google.com/github/NatalieLow/Data-Science-for-Construction-Architecture-and-Engineering/blob/main/Copy_of_Exercise_2_2_Pandas_Fundamentals_II.ipynb\" target=\"_parent\"><img src=\"https://colab.research.google.com/assets/colab-badge.svg\" alt=\"Open In Colab\"/></a>"
      ]
    },
    {
      "cell_type": "markdown",
      "metadata": {
        "id": "mQlkWmvx7J9r"
      },
      "source": [
        "# Data Science for Construction, Architecture and Engineering\n",
        "\n",
        "### Week 2 - Building Design Phase - Intro to Pandas\n",
        "\n",
        "### Exercise Set 2.2 - Pandas Fundamentals II\n",
        "\n",
        "This set of exercises is the second of two sets for Week 2. These exercises are designed to give you some hands on experience in trying out the concepts from the second set of videos for this week.\n",
        "\n",
        "There is an introduction video available to explain the process of using this exercise video.\n",
        "\n",
        "The lead developer of this exercise is Matias Quintana, a Ph.D. student at NUS and a teaching assistant of this course. "
      ]
    },
    {
      "cell_type": "markdown",
      "metadata": {
        "id": "4rVMs5nJMWRF"
      },
      "source": [
        "# Exercise 02.2\n",
        "\n",
        "There are three exercises in this set, each one slightly more advanced uses of the [Pandas library](https://pandas.pydata.org/).\n",
        "\n",
        "### Please note that you will need to use the resultant output from Exercise 02.2.3 for the Quiz 2.2."
      ]
    },
    {
      "cell_type": "markdown",
      "metadata": {
        "id": "A3KaS5J7YSN1"
      },
      "source": [
        "First, we will help by importing the files the libraries you will need on this notebook:"
      ]
    },
    {
      "cell_type": "code",
      "metadata": {
        "id": "45mbhhftok3k"
      },
      "source": [
        "import pandas as pd\n",
        "import os\n",
        "from google.colab import drive"
      ],
      "execution_count": 1,
      "outputs": []
    },
    {
      "cell_type": "markdown",
      "metadata": {
        "id": "D_DZ1BPjZpkA"
      },
      "source": [
        "And mount the google drive folder"
      ]
    },
    {
      "cell_type": "code",
      "metadata": {
        "id": "tCbnv7nUZtUs",
        "colab": {
          "base_uri": "https://localhost:8080/"
        },
        "outputId": "c672504f-07cf-46e8-c1c3-2fcc4030a807"
      },
      "source": [
        "drive.mount('/content/gdrive')\n",
        "os.chdir(\"/content/gdrive/My Drive/Colab Notebooks/Section 2/simulation_data\")"
      ],
      "execution_count": 2,
      "outputs": [
        {
          "output_type": "stream",
          "name": "stdout",
          "text": [
            "Mounted at /content/gdrive\n"
          ]
        }
      ]
    },
    {
      "cell_type": "markdown",
      "metadata": {
        "id": "GmfxfuNhMkt4"
      },
      "source": [
        "## Exercise 02.2.1 - Load multiples files and concatenate them"
      ]
    },
    {
      "cell_type": "markdown",
      "metadata": {
        "id": "fzoU_TViibX7"
      },
      "source": [
        "As a data scientist in the built environment, you may want to compare different simulation scenarios with a baseline in order to aid the decision making of the stakeholders. By doing this, you can provide better insights to the design team in terms of which strategy is less energy heavy.\n",
        "\n",
        "The first thing we can do is load all the different scenarios alongside the baseline together. As you saw on the videos, one feature of interative python notebooks is the ability to run UNIX commands, such as `ls`:\n"
      ]
    },
    {
      "cell_type": "code",
      "metadata": {
        "id": "8rZZYtyLMqsN",
        "colab": {
          "base_uri": "https://localhost:8080/"
        },
        "outputId": "149a0b57-264d-4110-f18c-16c804a0c7ed"
      },
      "source": [
        "ls\n"
      ],
      "execution_count": 3,
      "outputs": [
        {
          "output_type": "stream",
          "name": "stdout",
          "text": [
            "'Copy of Baseline.csv'\n",
            "'Copy of Baseline.gsheet'\n",
            "'Copy of Scenario - Aircon Schedules.csv'\n",
            "'Copy of Scenario - Cool roof.csv'\n",
            "'Copy of Scenario - Increase Setpoint.csv'\n",
            "'Copy of Scenario - Low-E Glass.csv'\n",
            "'Copy of Scenario - Rooftop Gardens.csv'\n"
          ]
        }
      ]
    },
    {
      "cell_type": "code",
      "metadata": {
        "id": "Yg3R_ogMmK83",
        "colab": {
          "base_uri": "https://localhost:8080/"
        },
        "outputId": "c00f20f7-023e-4613-c443-e218413da2bb"
      },
      "source": [
        "# when `ls` is ran on a cell with python code, there should be a `!` in front of it\n",
        "print(\"some python code\")\n",
        "!ls\n"
      ],
      "execution_count": 4,
      "outputs": [
        {
          "output_type": "stream",
          "name": "stdout",
          "text": [
            "some python code\n",
            "'Copy of Baseline.csv'\n",
            "'Copy of Baseline.gsheet'\n",
            "'Copy of Scenario - Aircon Schedules.csv'\n",
            "'Copy of Scenario - Cool roof.csv'\n",
            "'Copy of Scenario - Increase Setpoint.csv'\n",
            "'Copy of Scenario - Low-E Glass.csv'\n",
            "'Copy of Scenario - Rooftop Gardens.csv'\n"
          ]
        }
      ]
    },
    {
      "cell_type": "markdown",
      "metadata": {
        "id": "GX2Mqao2Z4zg"
      },
      "source": [
        "This command lists the contents of a given directory. In your case, is listing the contents of the current directory on which you arrived after mounting the gdrive."
      ]
    },
    {
      "cell_type": "markdown",
      "metadata": {
        "id": "oQoDkJ0zNEis"
      },
      "source": [
        "You have already used `.read_csv()` to load a single file, now you are tasked to write a program that loads all the `.csv` files shown by the `ls` command. \n",
        "\n",
        "In this exercise go ahead and try loading and manipulating all the scenario files, this time using a **function**.\n",
        "\n",
        "The function is called `load_all_csv` and the input is a list of string with the file names.\n",
        "\n",
        "After implementing it, you would only need to run the following one-liner `all_data = load_all_csv(files_names)` to load all the data properly, assuming `file_names` contains the **string** names of all the `csv` files you want .\n",
        "\n",
        "Complete the function below and verify the files are loaded into `all_data`.\n",
        "\n",
        "Use this first code cell to define your function:\n"
      ]
    },
    {
      "cell_type": "code",
      "metadata": {
        "id": "pGipw2_GpFAa"
      },
      "source": [
        "def load_all_csv(files_names):\n",
        "    # Follow this function template: take a list of file names and return one dataframe\n",
        "    # YOUR CODE HERE\n",
        "    csv_s = []\n",
        "    for n in files_names:\n",
        "      # print (n)\n",
        "      df = pd.read_csv(n, index_col='Month')\n",
        "      csv_s.append(df)\n",
        "    print(csv_s)\n",
        "    combined = pd.concat(csv_s, axis=1)  \n",
        "    return combined"
      ],
      "execution_count": 57,
      "outputs": []
    },
    {
      "cell_type": "markdown",
      "metadata": {
        "id": "jMkjca1TSbbc"
      },
      "source": [
        "Now you can write code here that will define the list of scenario files, call the function, and show the resultant DataFrame `all_data`"
      ]
    },
    {
      "cell_type": "code",
      "metadata": {
        "id": "NuOrh3_dcBf6",
        "colab": {
          "base_uri": "https://localhost:8080/",
          "height": 1000
        },
        "outputId": "b6251830-8a3f-4d0e-b543-2f39460ee9b7"
      },
      "source": [
        "# from tables import file\n",
        "# Use the function you just defined and load all the files\n",
        "# YOUR CODE HERE\n",
        "\n",
        "file_names = os.listdir()\n",
        "file_names.pop(0)\n",
        "# print(file_names)\n",
        "all_data = load_all_csv(file_names)\n",
        "all_data\n"
      ],
      "execution_count": 58,
      "outputs": [
        {
          "output_type": "stream",
          "name": "stdout",
          "text": [
            "[           Scenario - Low-E Glass\n",
            "Month                            \n",
            "January                      5.41\n",
            "February                     6.48\n",
            "March                       10.37\n",
            "April                       13.36\n",
            "May                         19.14\n",
            "June                        22.47\n",
            "July                        26.84\n",
            "August                      26.91\n",
            "September                   24.77\n",
            "October                     18.16\n",
            "November                    12.69\n",
            "December                     7.24,            Scenario - Rooftop Gardens\n",
            "Month                                \n",
            "January                          6.30\n",
            "February                         7.15\n",
            "March                           10.90\n",
            "April                           13.59\n",
            "May                             18.94\n",
            "June                            22.12\n",
            "July                            26.29\n",
            "August                          26.47\n",
            "September                       24.63\n",
            "October                         18.51\n",
            "November                        13.55\n",
            "December                         8.19,            Scenario - Increase Setpoint\n",
            "Month                                  \n",
            "January                            2.73\n",
            "February                           3.88\n",
            "March                              6.60\n",
            "April                              9.37\n",
            "May                               14.82\n",
            "June                              18.01\n",
            "July                              21.98\n",
            "August                            22.15\n",
            "September                         19.92\n",
            "October                           13.65\n",
            "November                           8.49\n",
            "December                           4.15,            Scenario - Aircon Schedules\n",
            "Month                                 \n",
            "January                           5.61\n",
            "February                          6.50\n",
            "March                             9.70\n",
            "April                            11.95\n",
            "May                              16.52\n",
            "June                             18.89\n",
            "July                             22.13\n",
            "August                           22.14\n",
            "September                        20.38\n",
            "October                          15.87\n",
            "November                         11.71\n",
            "December                          7.16,            Scenario - Cool roof\n",
            "Month                          \n",
            "January                    4.46\n",
            "February                   5.39\n",
            "March                      8.96\n",
            "April                     11.73\n",
            "May                       17.28\n",
            "June                      20.54\n",
            "July                      24.76\n",
            "August                    24.97\n",
            "September                 22.98\n",
            "October                   16.57\n",
            "November                  11.41\n",
            "December                   6.36,            Baseline\n",
            "Month              \n",
            "January        5.69\n",
            "February       6.75\n",
            "March         10.64\n",
            "April         13.60\n",
            "May           19.34\n",
            "June          22.64\n",
            "July          27.02\n",
            "August        27.13\n",
            "September     25.04\n",
            "October       18.47\n",
            "November      13.02\n",
            "December       7.53]\n"
          ]
        },
        {
          "output_type": "execute_result",
          "data": {
            "text/plain": [
              "           Scenario - Low-E Glass  Scenario - Rooftop Gardens  \\\n",
              "Month                                                           \n",
              "January                      5.41                        6.30   \n",
              "February                     6.48                        7.15   \n",
              "March                       10.37                       10.90   \n",
              "April                       13.36                       13.59   \n",
              "May                         19.14                       18.94   \n",
              "June                        22.47                       22.12   \n",
              "July                        26.84                       26.29   \n",
              "August                      26.91                       26.47   \n",
              "September                   24.77                       24.63   \n",
              "October                     18.16                       18.51   \n",
              "November                    12.69                       13.55   \n",
              "December                     7.24                        8.19   \n",
              "\n",
              "           Scenario - Increase Setpoint  Scenario - Aircon Schedules  \\\n",
              "Month                                                                  \n",
              "January                            2.73                         5.61   \n",
              "February                           3.88                         6.50   \n",
              "March                              6.60                         9.70   \n",
              "April                              9.37                        11.95   \n",
              "May                               14.82                        16.52   \n",
              "June                              18.01                        18.89   \n",
              "July                              21.98                        22.13   \n",
              "August                            22.15                        22.14   \n",
              "September                         19.92                        20.38   \n",
              "October                           13.65                        15.87   \n",
              "November                           8.49                        11.71   \n",
              "December                           4.15                         7.16   \n",
              "\n",
              "           Scenario - Cool roof  Baseline  \n",
              "Month                                      \n",
              "January                    4.46      5.69  \n",
              "February                   5.39      6.75  \n",
              "March                      8.96     10.64  \n",
              "April                     11.73     13.60  \n",
              "May                       17.28     19.34  \n",
              "June                      20.54     22.64  \n",
              "July                      24.76     27.02  \n",
              "August                    24.97     27.13  \n",
              "September                 22.98     25.04  \n",
              "October                   16.57     18.47  \n",
              "November                  11.41     13.02  \n",
              "December                   6.36      7.53  "
            ],
            "text/html": [
              "\n",
              "  <div id=\"df-3e0f2a76-b34d-4011-a8da-d33febb3deec\">\n",
              "    <div class=\"colab-df-container\">\n",
              "      <div>\n",
              "<style scoped>\n",
              "    .dataframe tbody tr th:only-of-type {\n",
              "        vertical-align: middle;\n",
              "    }\n",
              "\n",
              "    .dataframe tbody tr th {\n",
              "        vertical-align: top;\n",
              "    }\n",
              "\n",
              "    .dataframe thead th {\n",
              "        text-align: right;\n",
              "    }\n",
              "</style>\n",
              "<table border=\"1\" class=\"dataframe\">\n",
              "  <thead>\n",
              "    <tr style=\"text-align: right;\">\n",
              "      <th></th>\n",
              "      <th>Scenario - Low-E Glass</th>\n",
              "      <th>Scenario - Rooftop Gardens</th>\n",
              "      <th>Scenario - Increase Setpoint</th>\n",
              "      <th>Scenario - Aircon Schedules</th>\n",
              "      <th>Scenario - Cool roof</th>\n",
              "      <th>Baseline</th>\n",
              "    </tr>\n",
              "    <tr>\n",
              "      <th>Month</th>\n",
              "      <th></th>\n",
              "      <th></th>\n",
              "      <th></th>\n",
              "      <th></th>\n",
              "      <th></th>\n",
              "      <th></th>\n",
              "    </tr>\n",
              "  </thead>\n",
              "  <tbody>\n",
              "    <tr>\n",
              "      <th>January</th>\n",
              "      <td>5.41</td>\n",
              "      <td>6.30</td>\n",
              "      <td>2.73</td>\n",
              "      <td>5.61</td>\n",
              "      <td>4.46</td>\n",
              "      <td>5.69</td>\n",
              "    </tr>\n",
              "    <tr>\n",
              "      <th>February</th>\n",
              "      <td>6.48</td>\n",
              "      <td>7.15</td>\n",
              "      <td>3.88</td>\n",
              "      <td>6.50</td>\n",
              "      <td>5.39</td>\n",
              "      <td>6.75</td>\n",
              "    </tr>\n",
              "    <tr>\n",
              "      <th>March</th>\n",
              "      <td>10.37</td>\n",
              "      <td>10.90</td>\n",
              "      <td>6.60</td>\n",
              "      <td>9.70</td>\n",
              "      <td>8.96</td>\n",
              "      <td>10.64</td>\n",
              "    </tr>\n",
              "    <tr>\n",
              "      <th>April</th>\n",
              "      <td>13.36</td>\n",
              "      <td>13.59</td>\n",
              "      <td>9.37</td>\n",
              "      <td>11.95</td>\n",
              "      <td>11.73</td>\n",
              "      <td>13.60</td>\n",
              "    </tr>\n",
              "    <tr>\n",
              "      <th>May</th>\n",
              "      <td>19.14</td>\n",
              "      <td>18.94</td>\n",
              "      <td>14.82</td>\n",
              "      <td>16.52</td>\n",
              "      <td>17.28</td>\n",
              "      <td>19.34</td>\n",
              "    </tr>\n",
              "    <tr>\n",
              "      <th>June</th>\n",
              "      <td>22.47</td>\n",
              "      <td>22.12</td>\n",
              "      <td>18.01</td>\n",
              "      <td>18.89</td>\n",
              "      <td>20.54</td>\n",
              "      <td>22.64</td>\n",
              "    </tr>\n",
              "    <tr>\n",
              "      <th>July</th>\n",
              "      <td>26.84</td>\n",
              "      <td>26.29</td>\n",
              "      <td>21.98</td>\n",
              "      <td>22.13</td>\n",
              "      <td>24.76</td>\n",
              "      <td>27.02</td>\n",
              "    </tr>\n",
              "    <tr>\n",
              "      <th>August</th>\n",
              "      <td>26.91</td>\n",
              "      <td>26.47</td>\n",
              "      <td>22.15</td>\n",
              "      <td>22.14</td>\n",
              "      <td>24.97</td>\n",
              "      <td>27.13</td>\n",
              "    </tr>\n",
              "    <tr>\n",
              "      <th>September</th>\n",
              "      <td>24.77</td>\n",
              "      <td>24.63</td>\n",
              "      <td>19.92</td>\n",
              "      <td>20.38</td>\n",
              "      <td>22.98</td>\n",
              "      <td>25.04</td>\n",
              "    </tr>\n",
              "    <tr>\n",
              "      <th>October</th>\n",
              "      <td>18.16</td>\n",
              "      <td>18.51</td>\n",
              "      <td>13.65</td>\n",
              "      <td>15.87</td>\n",
              "      <td>16.57</td>\n",
              "      <td>18.47</td>\n",
              "    </tr>\n",
              "    <tr>\n",
              "      <th>November</th>\n",
              "      <td>12.69</td>\n",
              "      <td>13.55</td>\n",
              "      <td>8.49</td>\n",
              "      <td>11.71</td>\n",
              "      <td>11.41</td>\n",
              "      <td>13.02</td>\n",
              "    </tr>\n",
              "    <tr>\n",
              "      <th>December</th>\n",
              "      <td>7.24</td>\n",
              "      <td>8.19</td>\n",
              "      <td>4.15</td>\n",
              "      <td>7.16</td>\n",
              "      <td>6.36</td>\n",
              "      <td>7.53</td>\n",
              "    </tr>\n",
              "  </tbody>\n",
              "</table>\n",
              "</div>\n",
              "      <button class=\"colab-df-convert\" onclick=\"convertToInteractive('df-3e0f2a76-b34d-4011-a8da-d33febb3deec')\"\n",
              "              title=\"Convert this dataframe to an interactive table.\"\n",
              "              style=\"display:none;\">\n",
              "        \n",
              "  <svg xmlns=\"http://www.w3.org/2000/svg\" height=\"24px\"viewBox=\"0 0 24 24\"\n",
              "       width=\"24px\">\n",
              "    <path d=\"M0 0h24v24H0V0z\" fill=\"none\"/>\n",
              "    <path d=\"M18.56 5.44l.94 2.06.94-2.06 2.06-.94-2.06-.94-.94-2.06-.94 2.06-2.06.94zm-11 1L8.5 8.5l.94-2.06 2.06-.94-2.06-.94L8.5 2.5l-.94 2.06-2.06.94zm10 10l.94 2.06.94-2.06 2.06-.94-2.06-.94-.94-2.06-.94 2.06-2.06.94z\"/><path d=\"M17.41 7.96l-1.37-1.37c-.4-.4-.92-.59-1.43-.59-.52 0-1.04.2-1.43.59L10.3 9.45l-7.72 7.72c-.78.78-.78 2.05 0 2.83L4 21.41c.39.39.9.59 1.41.59.51 0 1.02-.2 1.41-.59l7.78-7.78 2.81-2.81c.8-.78.8-2.07 0-2.86zM5.41 20L4 18.59l7.72-7.72 1.47 1.35L5.41 20z\"/>\n",
              "  </svg>\n",
              "      </button>\n",
              "      \n",
              "  <style>\n",
              "    .colab-df-container {\n",
              "      display:flex;\n",
              "      flex-wrap:wrap;\n",
              "      gap: 12px;\n",
              "    }\n",
              "\n",
              "    .colab-df-convert {\n",
              "      background-color: #E8F0FE;\n",
              "      border: none;\n",
              "      border-radius: 50%;\n",
              "      cursor: pointer;\n",
              "      display: none;\n",
              "      fill: #1967D2;\n",
              "      height: 32px;\n",
              "      padding: 0 0 0 0;\n",
              "      width: 32px;\n",
              "    }\n",
              "\n",
              "    .colab-df-convert:hover {\n",
              "      background-color: #E2EBFA;\n",
              "      box-shadow: 0px 1px 2px rgba(60, 64, 67, 0.3), 0px 1px 3px 1px rgba(60, 64, 67, 0.15);\n",
              "      fill: #174EA6;\n",
              "    }\n",
              "\n",
              "    [theme=dark] .colab-df-convert {\n",
              "      background-color: #3B4455;\n",
              "      fill: #D2E3FC;\n",
              "    }\n",
              "\n",
              "    [theme=dark] .colab-df-convert:hover {\n",
              "      background-color: #434B5C;\n",
              "      box-shadow: 0px 1px 3px 1px rgba(0, 0, 0, 0.15);\n",
              "      filter: drop-shadow(0px 1px 2px rgba(0, 0, 0, 0.3));\n",
              "      fill: #FFFFFF;\n",
              "    }\n",
              "  </style>\n",
              "\n",
              "      <script>\n",
              "        const buttonEl =\n",
              "          document.querySelector('#df-3e0f2a76-b34d-4011-a8da-d33febb3deec button.colab-df-convert');\n",
              "        buttonEl.style.display =\n",
              "          google.colab.kernel.accessAllowed ? 'block' : 'none';\n",
              "\n",
              "        async function convertToInteractive(key) {\n",
              "          const element = document.querySelector('#df-3e0f2a76-b34d-4011-a8da-d33febb3deec');\n",
              "          const dataTable =\n",
              "            await google.colab.kernel.invokeFunction('convertToInteractive',\n",
              "                                                     [key], {});\n",
              "          if (!dataTable) return;\n",
              "\n",
              "          const docLinkHtml = 'Like what you see? Visit the ' +\n",
              "            '<a target=\"_blank\" href=https://colab.research.google.com/notebooks/data_table.ipynb>data table notebook</a>'\n",
              "            + ' to learn more about interactive tables.';\n",
              "          element.innerHTML = '';\n",
              "          dataTable['output_type'] = 'display_data';\n",
              "          await google.colab.output.renderOutput(dataTable, element);\n",
              "          const docLink = document.createElement('div');\n",
              "          docLink.innerHTML = docLinkHtml;\n",
              "          element.appendChild(docLink);\n",
              "        }\n",
              "      </script>\n",
              "    </div>\n",
              "  </div>\n",
              "  "
            ]
          },
          "metadata": {},
          "execution_count": 58
        }
      ]
    },
    {
      "cell_type": "markdown",
      "metadata": {
        "id": "QVPxq_08rb5n"
      },
      "source": [
        "## Exercise 02.2.2 - Dataframe column slicing\n",
        "Sometimes, even if you have all the data we want to compare in one single dataframe, you may want to analyse specific columns rather than all of them. "
      ]
    },
    {
      "cell_type": "markdown",
      "metadata": {
        "id": "iSmdxmRDveug"
      },
      "source": [
        "In this exercise, write some lines of codes that creates a new dataframe containing only data from the `Baseline` and the simulation scenarios regarding **scheduling** and **setpoint** operation.\n"
      ]
    },
    {
      "cell_type": "markdown",
      "metadata": {
        "id": "t67Te4zPjdg1"
      },
      "source": [
        "**Hint**: Look at the instruction code in Exercise 02.01.3 for a reference on how to select a single column.\n"
      ]
    },
    {
      "cell_type": "markdown",
      "metadata": {
        "id": "vicpfE5ijm6C"
      },
      "source": [
        "**Hint**: Remember that when you want to group variables is better to treat them as a list `['a','b']` instead of just two independant variables `'a','b'`. Notice the square brackets."
      ]
    },
    {
      "cell_type": "code",
      "metadata": {
        "id": "JA4l4fuApnNI",
        "colab": {
          "base_uri": "https://localhost:8080/",
          "height": 457
        },
        "outputId": "52a354cf-c184-4c0f-eef6-9e475716779f"
      },
      "source": [
        "# Select only the baseline and simulation scenarios asked above\n",
        "# YOUR CODE HERE\n",
        "scheduling_setpoint_df = pd.concat([all_data['Baseline'], all_data['Scenario - Aircon Schedules'], all_data['Scenario - Increase Setpoint']], axis=1)\n",
        "scheduling_setpoint_df\n"
      ],
      "execution_count": 29,
      "outputs": [
        {
          "output_type": "execute_result",
          "data": {
            "text/plain": [
              "           Baseline  Scenario - Aircon Schedules  Scenario - Increase Setpoint\n",
              "Month                                                                         \n",
              "January        5.69                         5.61                          2.73\n",
              "February       6.75                         6.50                          3.88\n",
              "March         10.64                         9.70                          6.60\n",
              "April         13.60                        11.95                          9.37\n",
              "May           19.34                        16.52                         14.82\n",
              "June          22.64                        18.89                         18.01\n",
              "July          27.02                        22.13                         21.98\n",
              "August        27.13                        22.14                         22.15\n",
              "September     25.04                        20.38                         19.92\n",
              "October       18.47                        15.87                         13.65\n",
              "November      13.02                        11.71                          8.49\n",
              "December       7.53                         7.16                          4.15"
            ],
            "text/html": [
              "\n",
              "  <div id=\"df-a96bb2d1-6eb8-49b1-a0fa-9135efd0402c\">\n",
              "    <div class=\"colab-df-container\">\n",
              "      <div>\n",
              "<style scoped>\n",
              "    .dataframe tbody tr th:only-of-type {\n",
              "        vertical-align: middle;\n",
              "    }\n",
              "\n",
              "    .dataframe tbody tr th {\n",
              "        vertical-align: top;\n",
              "    }\n",
              "\n",
              "    .dataframe thead th {\n",
              "        text-align: right;\n",
              "    }\n",
              "</style>\n",
              "<table border=\"1\" class=\"dataframe\">\n",
              "  <thead>\n",
              "    <tr style=\"text-align: right;\">\n",
              "      <th></th>\n",
              "      <th>Baseline</th>\n",
              "      <th>Scenario - Aircon Schedules</th>\n",
              "      <th>Scenario - Increase Setpoint</th>\n",
              "    </tr>\n",
              "    <tr>\n",
              "      <th>Month</th>\n",
              "      <th></th>\n",
              "      <th></th>\n",
              "      <th></th>\n",
              "    </tr>\n",
              "  </thead>\n",
              "  <tbody>\n",
              "    <tr>\n",
              "      <th>January</th>\n",
              "      <td>5.69</td>\n",
              "      <td>5.61</td>\n",
              "      <td>2.73</td>\n",
              "    </tr>\n",
              "    <tr>\n",
              "      <th>February</th>\n",
              "      <td>6.75</td>\n",
              "      <td>6.50</td>\n",
              "      <td>3.88</td>\n",
              "    </tr>\n",
              "    <tr>\n",
              "      <th>March</th>\n",
              "      <td>10.64</td>\n",
              "      <td>9.70</td>\n",
              "      <td>6.60</td>\n",
              "    </tr>\n",
              "    <tr>\n",
              "      <th>April</th>\n",
              "      <td>13.60</td>\n",
              "      <td>11.95</td>\n",
              "      <td>9.37</td>\n",
              "    </tr>\n",
              "    <tr>\n",
              "      <th>May</th>\n",
              "      <td>19.34</td>\n",
              "      <td>16.52</td>\n",
              "      <td>14.82</td>\n",
              "    </tr>\n",
              "    <tr>\n",
              "      <th>June</th>\n",
              "      <td>22.64</td>\n",
              "      <td>18.89</td>\n",
              "      <td>18.01</td>\n",
              "    </tr>\n",
              "    <tr>\n",
              "      <th>July</th>\n",
              "      <td>27.02</td>\n",
              "      <td>22.13</td>\n",
              "      <td>21.98</td>\n",
              "    </tr>\n",
              "    <tr>\n",
              "      <th>August</th>\n",
              "      <td>27.13</td>\n",
              "      <td>22.14</td>\n",
              "      <td>22.15</td>\n",
              "    </tr>\n",
              "    <tr>\n",
              "      <th>September</th>\n",
              "      <td>25.04</td>\n",
              "      <td>20.38</td>\n",
              "      <td>19.92</td>\n",
              "    </tr>\n",
              "    <tr>\n",
              "      <th>October</th>\n",
              "      <td>18.47</td>\n",
              "      <td>15.87</td>\n",
              "      <td>13.65</td>\n",
              "    </tr>\n",
              "    <tr>\n",
              "      <th>November</th>\n",
              "      <td>13.02</td>\n",
              "      <td>11.71</td>\n",
              "      <td>8.49</td>\n",
              "    </tr>\n",
              "    <tr>\n",
              "      <th>December</th>\n",
              "      <td>7.53</td>\n",
              "      <td>7.16</td>\n",
              "      <td>4.15</td>\n",
              "    </tr>\n",
              "  </tbody>\n",
              "</table>\n",
              "</div>\n",
              "      <button class=\"colab-df-convert\" onclick=\"convertToInteractive('df-a96bb2d1-6eb8-49b1-a0fa-9135efd0402c')\"\n",
              "              title=\"Convert this dataframe to an interactive table.\"\n",
              "              style=\"display:none;\">\n",
              "        \n",
              "  <svg xmlns=\"http://www.w3.org/2000/svg\" height=\"24px\"viewBox=\"0 0 24 24\"\n",
              "       width=\"24px\">\n",
              "    <path d=\"M0 0h24v24H0V0z\" fill=\"none\"/>\n",
              "    <path d=\"M18.56 5.44l.94 2.06.94-2.06 2.06-.94-2.06-.94-.94-2.06-.94 2.06-2.06.94zm-11 1L8.5 8.5l.94-2.06 2.06-.94-2.06-.94L8.5 2.5l-.94 2.06-2.06.94zm10 10l.94 2.06.94-2.06 2.06-.94-2.06-.94-.94-2.06-.94 2.06-2.06.94z\"/><path d=\"M17.41 7.96l-1.37-1.37c-.4-.4-.92-.59-1.43-.59-.52 0-1.04.2-1.43.59L10.3 9.45l-7.72 7.72c-.78.78-.78 2.05 0 2.83L4 21.41c.39.39.9.59 1.41.59.51 0 1.02-.2 1.41-.59l7.78-7.78 2.81-2.81c.8-.78.8-2.07 0-2.86zM5.41 20L4 18.59l7.72-7.72 1.47 1.35L5.41 20z\"/>\n",
              "  </svg>\n",
              "      </button>\n",
              "      \n",
              "  <style>\n",
              "    .colab-df-container {\n",
              "      display:flex;\n",
              "      flex-wrap:wrap;\n",
              "      gap: 12px;\n",
              "    }\n",
              "\n",
              "    .colab-df-convert {\n",
              "      background-color: #E8F0FE;\n",
              "      border: none;\n",
              "      border-radius: 50%;\n",
              "      cursor: pointer;\n",
              "      display: none;\n",
              "      fill: #1967D2;\n",
              "      height: 32px;\n",
              "      padding: 0 0 0 0;\n",
              "      width: 32px;\n",
              "    }\n",
              "\n",
              "    .colab-df-convert:hover {\n",
              "      background-color: #E2EBFA;\n",
              "      box-shadow: 0px 1px 2px rgba(60, 64, 67, 0.3), 0px 1px 3px 1px rgba(60, 64, 67, 0.15);\n",
              "      fill: #174EA6;\n",
              "    }\n",
              "\n",
              "    [theme=dark] .colab-df-convert {\n",
              "      background-color: #3B4455;\n",
              "      fill: #D2E3FC;\n",
              "    }\n",
              "\n",
              "    [theme=dark] .colab-df-convert:hover {\n",
              "      background-color: #434B5C;\n",
              "      box-shadow: 0px 1px 3px 1px rgba(0, 0, 0, 0.15);\n",
              "      filter: drop-shadow(0px 1px 2px rgba(0, 0, 0, 0.3));\n",
              "      fill: #FFFFFF;\n",
              "    }\n",
              "  </style>\n",
              "\n",
              "      <script>\n",
              "        const buttonEl =\n",
              "          document.querySelector('#df-a96bb2d1-6eb8-49b1-a0fa-9135efd0402c button.colab-df-convert');\n",
              "        buttonEl.style.display =\n",
              "          google.colab.kernel.accessAllowed ? 'block' : 'none';\n",
              "\n",
              "        async function convertToInteractive(key) {\n",
              "          const element = document.querySelector('#df-a96bb2d1-6eb8-49b1-a0fa-9135efd0402c');\n",
              "          const dataTable =\n",
              "            await google.colab.kernel.invokeFunction('convertToInteractive',\n",
              "                                                     [key], {});\n",
              "          if (!dataTable) return;\n",
              "\n",
              "          const docLinkHtml = 'Like what you see? Visit the ' +\n",
              "            '<a target=\"_blank\" href=https://colab.research.google.com/notebooks/data_table.ipynb>data table notebook</a>'\n",
              "            + ' to learn more about interactive tables.';\n",
              "          element.innerHTML = '';\n",
              "          dataTable['output_type'] = 'display_data';\n",
              "          await google.colab.output.renderOutput(dataTable, element);\n",
              "          const docLink = document.createElement('div');\n",
              "          docLink.innerHTML = docLinkHtml;\n",
              "          element.appendChild(docLink);\n",
              "        }\n",
              "      </script>\n",
              "    </div>\n",
              "  </div>\n",
              "  "
            ]
          },
          "metadata": {},
          "execution_count": 29
        }
      ]
    },
    {
      "cell_type": "markdown",
      "metadata": {
        "id": "DB6p9FHsr9WX"
      },
      "source": [
        "## Exercise 02.2.3 - Calculate maximum value across rows and columns\n",
        "In this last exercise, let's create an analysis of the `Baseline` and the simulation scenarios chosen before. \n",
        "\n",
        "For **each month**, find the scenario (column) with the **lowest** consumption value. Then, in order to calculate the **energy savings** potential of this scenario **on this month**, find the scenario (column) with the **highest** value. The energy savings percentage can be then calculated as one minus the ratio of these values all multiplied by 100. You save these values in the list `savings`.\n",
        "\n",
        "Finally, report the `maximum` percentage of energy savings, across all months, as well as the **month** where this is achieved.\n"
      ]
    },
    {
      "cell_type": "markdown",
      "metadata": {
        "id": "14JhcgLNlnCL"
      },
      "source": [
        "**Hint**: One way to select specific rows in a dataframe is by choosing the index with the function `.iloc[]`. This function accepts arguments in the form of `row_indices` or `row_indices, column_indices` (indices start with 0 in Python). Remember that execution the same action multiple times (Calculating the savings percentage, can be automated in a `for loop`"
      ]
    },
    {
      "cell_type": "code",
      "metadata": {
        "id": "Qt5cskNs05H1",
        "colab": {
          "base_uri": "https://localhost:8080/"
        },
        "outputId": "7e635c0b-1163-4b77-e4d0-d87f9a0b8578"
      },
      "source": [
        "# You can use the variable `savings` to keep track of the increase from baseline to best scenario\n",
        "savings = []\n",
        "savings_indexes = []\n",
        "# YOUR CODE HERE\n",
        "# num_rows = scheduling_setpoint_df.ilocshape[0]\n",
        "\n",
        "df_indexes = scheduling_setpoint_df.index\n",
        "# print(df_indexes)\n",
        "\n",
        "for x in df_indexes:\n",
        "  # print(x)\n",
        "  min_consumption = min(scheduling_setpoint_df.loc[x, :])\n",
        "  # print(min_consumption)\n",
        "  max_consumption = max(scheduling_setpoint_df.loc[x, :])\n",
        "  # print(max_consumption)\n",
        "  ratio = min_consumption/max_consumption\n",
        "  savings_percentage = (1 - ratio) * 100\n",
        "  savings.append(savings_percentage)\n",
        "  savings_indexes.append(x)\n",
        "# print(savings)\n",
        "# print(savings_indexes)\n",
        "df = pd.DataFrame({\"savings\": savings}, index = savings_indexes)\n",
        "# print(df)\n",
        "print(max(savings))\n",
        "print(df.idxmax())\n",
        "# df_with_savings = pd.concat([scheduling_setpoint_df,df], axis=1)\n",
        "# print(df_with_savings)\n"
      ],
      "execution_count": 74,
      "outputs": [
        {
          "output_type": "stream",
          "name": "stdout",
          "text": [
            "52.02108963093146\n",
            "savings    January\n",
            "dtype: object\n"
          ]
        }
      ]
    },
    {
      "cell_type": "markdown",
      "metadata": {
        "id": "lcbmU5vupLLe"
      },
      "source": [
        "### Please write down the month with the **highest savings** and input it in Quiz 2.2"
      ]
    },
    {
      "cell_type": "code",
      "metadata": {
        "id": "a6C3MOOQTLqJ"
      },
      "source": [
        "January"
      ],
      "execution_count": null,
      "outputs": []
    }
  ]
}