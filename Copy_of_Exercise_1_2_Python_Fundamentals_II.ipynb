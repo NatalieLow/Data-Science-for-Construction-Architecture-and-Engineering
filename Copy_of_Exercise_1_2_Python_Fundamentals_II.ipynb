{
  "nbformat": 4,
  "nbformat_minor": 0,
  "metadata": {
    "colab": {
      "provenance": [],
      "toc_visible": true,
      "include_colab_link": true
    },
    "kernelspec": {
      "name": "python3",
      "display_name": "Python 3"
    }
  },
  "cells": [
    {
      "cell_type": "markdown",
      "metadata": {
        "id": "view-in-github",
        "colab_type": "text"
      },
      "source": [
        "<a href=\"https://colab.research.google.com/github/NatalieLow/Data-Science-for-Construction-Architecture-and-Engineering/blob/main/Copy_of_Exercise_1_2_Python_Fundamentals_II.ipynb\" target=\"_parent\"><img src=\"https://colab.research.google.com/assets/colab-badge.svg\" alt=\"Open In Colab\"/></a>"
      ]
    },
    {
      "cell_type": "markdown",
      "metadata": {
        "id": "6ja6S3Po4C9I"
      },
      "source": [
        "# Data Science for Construction, Architecture and Engineering\n",
        "\n",
        "### Week 1 -  Introduction and Python Fundamentals\n",
        "\n",
        "### Exercise Set 1.2 - Python Fundamentals - Control Statements, Functions, and Libraries\n",
        "\n",
        "This pair of exercises is the second of two sets for Week 1. These exercises are designed to give you some hands on experience in trying out the concepts from the second set of videos for this week.\n",
        "\n",
        "There is an introduction video available to explain the process of using this exercise video.\n",
        "\n",
        "These exercises were adapted from the Introduction to Python resources from [Garth Wells](https://notebooks.azure.com/garth-wells/projects/CUED-IA-Computing-Michaelmas)."
      ]
    },
    {
      "cell_type": "markdown",
      "metadata": {
        "id": "4rVMs5nJMWRF"
      },
      "source": [
        "# Exercise Set 01.2\n",
        "\n",
        "There are three exercises in this set, each one focused on a generic exercise in the use of Python control statements and functions.\n",
        "\n",
        "### Please note that you will need to use the resultant output from Exercise 01.2.2 for the Quiz 1.2."
      ]
    },
    {
      "cell_type": "markdown",
      "metadata": {
        "id": "MeE39azs4oct"
      },
      "source": [
        "## Exercise 01.2.1 - Creating a short program using `if` statements\n",
        "\n",
        "Consider the following assessment criteria which map a score out of 100 to an \n",
        "assessment grade:\n",
        "\n",
        "| Grade            | Raw score  (/100)      |\n",
        "| ---------------- | ---------------------- |\n",
        "| Excellent        | $\\ge 82$               |\n",
        "| Very good        | $\\ge 76.5$ and $< 82$  |\n",
        "| Good             | $\\ge 66$ and $< 76.5$  |\n",
        "| Need improvement | $\\ge 45$ and $< 66$    |\n",
        "| Did you try?     | $< 45$                 |\n",
        "\n",
        "Write a program that using `if`, `elif`, and `else` that given an a score, prints the appropriate grade. Print an error message if the input score is greater than 100 or less than zero.\n"
      ]
    },
    {
      "cell_type": "code",
      "metadata": {
        "id": "C6bGD7LT43dc",
        "colab": {
          "base_uri": "https://localhost:8080/"
        },
        "outputId": "e6cb8ec0-0d57-4b47-e417-0e37b64a023e"
      },
      "source": [
        "# Score from user\n",
        "score = 86.0\n",
        "p_text = 'Your grade is: '\n",
        "\n",
        "# YOUR CODE HERE\n",
        "if score >= 82:\n",
        "  print(f'{p_text} Excellent')\n",
        "elif score >= 76.5 and score < 82:\n",
        "  print(f'{p_text} Very good')\n",
        "elif score >= 66.0 and score < 76.5:\n",
        "  print(f'{p_text} Good') \n",
        "elif score >= 45 and score < 66:\n",
        "  print(f'{p_text} Need improvement') \n",
        "else:\n",
        "  print('Did you try?')\n",
        "\n",
        "  "
      ],
      "execution_count": null,
      "outputs": [
        {
          "output_type": "stream",
          "name": "stdout",
          "text": [
            "Your grade is:  Excellent\n"
          ]
        }
      ]
    },
    {
      "cell_type": "markdown",
      "metadata": {
        "id": "8Q-zAbOIUE-1"
      },
      "source": [
        "## Exercise 01.2.2 - Complex Order of Operations\n",
        "\n",
        "For the polynomial \n",
        "\\begin{align}\n",
        "f(x, y) &= (x + y)^{6} \n",
        "\\\\\n",
        "&=  x^6 + 6x^{5}y + 15x^{4}y^{2} + 20x^{3}y^{3} + 15x^{2}y^{4} + 6xy^{5} + y^{6}\n",
        "\\end{align}\n",
        "compute $f$ using: (i) the compact form $(x + y)^{6}$; and (ii) the expanded form for:\n",
        "\n",
        "$x = 10$ and $y = 10.1$\n",
        "\n",
        "and compare the number of significant digits for which the answers are the same.\n",
        "\n",
        "Store the answer for the compact version using the variable `f0`, and using the variable `f1` for the expanded version.\n",
        "\n",
        "For case (b), compare the computed and analytical solutions and consider the relative error.\n",
        "Which approach would you recommend for computing this expression?"
      ]
    },
    {
      "cell_type": "code",
      "metadata": {
        "id": "i3D1ElSYXKMf",
        "colab": {
          "base_uri": "https://localhost:8080/"
        },
        "outputId": "e27a1d05-b051-4c04-d9af-d895da234c5b"
      },
      "source": [
        "x = 10.0\n",
        "y = 10.1\n",
        "\n",
        "# YOUR CODE HERE\n",
        "f0 = (x + y)**6\n",
        "f1 = x**6 + 6*(x**5)*y + 15*(x**4)*(y**2) + 20*(x**3)*(y**3) + 15*(x**2)*(y**4) + 6*x*(y**5) + (y**6)\n",
        "\n",
        "print(f'f0: {f0}, f1: {f1}, and the difference: {f0 - f1}')"
      ],
      "execution_count": null,
      "outputs": [
        {
          "output_type": "stream",
          "name": "stdout",
          "text": [
            "f0: 65944160.60120103, f1: 65944160.601201, and the difference: 2.9802322387695312e-08\n"
          ]
        }
      ]
    },
    {
      "cell_type": "markdown",
      "metadata": {
        "id": "dM8DLp5J6GuM"
      },
      "source": [
        "### Please write down the number that you calculated for the variables `f0` and f1` and input in Quiz 1.2"
      ]
    },
    {
      "cell_type": "markdown",
      "metadata": {
        "nbgrader": {
          "grade": false,
          "grade_id": "cell-668d765c259431ca",
          "locked": true,
          "schema_version": 3,
          "solution": false
        },
        "id": "aDvQQuqJLNe4"
      },
      "source": [
        "## Exercise 01.2.3 - Writing a Simple Function\n",
        "\n",
        "Given the coordinates of the vertices of a triangle, $(x_0, y_0)$, $(x_1, y_1)$ and $(x_2, y_2)$, the area $A$ of the triangle is given by:\n",
        "$$\n",
        "A = \\left| \\frac{x_0(y_1  - y_2) + x_1(y_2 - y_0) + x_2(y_0 - y_1)}{2} \\right|\n",
        "$$\n",
        "Write a function named `area` that computes the area of a triangle given the coordinates of the vertices.\n",
        "The order of the function arguments must be (`x0, y0, x1, y1, x2, y2)`.\n",
        "\n",
        "Hint: `abs()` calculates the absolute value\n",
        "\n",
        "Test the output of your function against with the following function inputs:\n",
        "\n",
        "```\n",
        "x0, y0 = 0.0, 0.0\n",
        "x1, y1 = 0.0, 2.0\n",
        "x2, y2 = 3.0, 0.0\n",
        "```"
      ]
    },
    {
      "cell_type": "code",
      "metadata": {
        "id": "Z6iycVlF6RmN",
        "colab": {
          "base_uri": "https://localhost:8080/",
          "height": 187
        },
        "outputId": "8e6ce8b6-e152-4a61-c2d4-66c115a3e6ee"
      },
      "source": [
        "### WRITE FUNCTION HERE\n",
        "area = abs((x0*(y1-y2)+ x1*(y2-y0) + x2*(y0-y1))/2)"
      ],
      "execution_count": null,
      "outputs": [
        {
          "output_type": "error",
          "ename": "NameError",
          "evalue": "ignored",
          "traceback": [
            "\u001b[0;31m---------------------------------------------------------------------------\u001b[0m",
            "\u001b[0;31mNameError\u001b[0m                                 Traceback (most recent call last)",
            "\u001b[0;32m<ipython-input-27-922868a896ca>\u001b[0m in \u001b[0;36m<module>\u001b[0;34m\u001b[0m\n\u001b[1;32m      1\u001b[0m \u001b[0;31m### WRITE FUNCTION HERE\u001b[0m\u001b[0;34m\u001b[0m\u001b[0;34m\u001b[0m\u001b[0;34m\u001b[0m\u001b[0m\n\u001b[0;32m----> 2\u001b[0;31m \u001b[0marea\u001b[0m \u001b[0;34m=\u001b[0m \u001b[0mabs\u001b[0m\u001b[0;34m(\u001b[0m\u001b[0;34m(\u001b[0m\u001b[0mx0\u001b[0m\u001b[0;34m*\u001b[0m\u001b[0;34m(\u001b[0m\u001b[0my1\u001b[0m\u001b[0;34m-\u001b[0m\u001b[0my2\u001b[0m\u001b[0;34m)\u001b[0m\u001b[0;34m+\u001b[0m \u001b[0mx1\u001b[0m\u001b[0;34m*\u001b[0m\u001b[0;34m(\u001b[0m\u001b[0my2\u001b[0m\u001b[0;34m-\u001b[0m\u001b[0my0\u001b[0m\u001b[0;34m)\u001b[0m \u001b[0;34m+\u001b[0m \u001b[0mx2\u001b[0m\u001b[0;34m*\u001b[0m\u001b[0;34m(\u001b[0m\u001b[0my0\u001b[0m\u001b[0;34m-\u001b[0m\u001b[0my1\u001b[0m\u001b[0;34m)\u001b[0m\u001b[0;34m)\u001b[0m\u001b[0;34m/\u001b[0m\u001b[0;36m2\u001b[0m\u001b[0;34m)\u001b[0m\u001b[0;34m\u001b[0m\u001b[0;34m\u001b[0m\u001b[0m\n\u001b[0m",
            "\u001b[0;31mNameError\u001b[0m: name 'x0' is not defined"
          ]
        }
      ]
    },
    {
      "cell_type": "code",
      "metadata": {
        "id": "ZG3GGMYDNFUV",
        "colab": {
          "base_uri": "https://localhost:8080/"
        },
        "outputId": "e406787f-33ff-41d8-9b0b-f8eaa1526f73"
      },
      "source": [
        "x0, y0 = 0.0, 0.0\n",
        "x1, y1 = 0.0, 2.0\n",
        "x2, y2 = 3.0, 0.0\n",
        "\n",
        "### CALL FUNCTION HERE\n",
        "area = abs((x0*(y1-y2)+ x1*(y2-y0) + x2*(y0-y1))/2)\n",
        "print(area)"
      ],
      "execution_count": null,
      "outputs": [
        {
          "output_type": "stream",
          "name": "stdout",
          "text": [
            "3.0\n"
          ]
        }
      ]
    }
  ]
}